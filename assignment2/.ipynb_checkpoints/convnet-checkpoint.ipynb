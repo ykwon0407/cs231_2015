{
 "cells": [
  {
   "cell_type": "markdown",
   "metadata": {},
   "source": [
    "# Train a ConvNet!\n",
    "We now have a generic solver and a bunch of modularized layers. It's time to put it all together, and train a ConvNet to recognize the classes in CIFAR-10. In this notebook we will walk you through training a simple two-layer ConvNet and then set you free to build the best net that you can to perform well on CIFAR-10.\n",
    "\n",
    "Open up the file `cs231n/classifiers/convnet.py`; you will see that the `two_layer_convnet` function computes the loss and gradients for a two-layer ConvNet. Note that this function uses the \"sandwich\" layers defined in `cs231n/layer_utils.py`. "
   ]
  },
  {
   "cell_type": "code",
   "execution_count": 1,
   "metadata": {
    "collapsed": true
   },
   "outputs": [],
   "source": [
    "# As usual, a bit of setup\n",
    "\n",
    "import numpy as np\n",
    "import matplotlib.pyplot as plt\n",
    "from cs231n.classifier_trainer import ClassifierTrainer\n",
    "from cs231n.gradient_check import eval_numerical_gradient\n",
    "from cs231n.classifiers.convnet import *\n",
    "\n",
    "%matplotlib inline\n",
    "plt.rcParams['figure.figsize'] = (10.0, 8.0) # set default size of plots\n",
    "plt.rcParams['image.interpolation'] = 'nearest'\n",
    "plt.rcParams['image.cmap'] = 'gray'\n",
    "\n",
    "# for auto-reloading external modules\n",
    "# see http://stackoverflow.com/questions/1907993/autoreload-of-modules-in-ipython\n",
    "%load_ext autoreload\n",
    "%autoreload 2\n",
    "\n",
    "def rel_error(x, y):\n",
    "  \"\"\" returns relative error \"\"\"\n",
    "  return np.max(np.abs(x - y) / (np.maximum(1e-8, np.abs(x) + np.abs(y))))"
   ]
  },
  {
   "cell_type": "code",
   "execution_count": 2,
   "metadata": {
    "collapsed": false
   },
   "outputs": [
    {
     "name": "stdout",
     "output_type": "stream",
     "text": [
      "Train data shape:  (49000, 3, 32, 32)\n",
      "Train labels shape:  (49000,)\n",
      "Validation data shape:  (1000, 3, 32, 32)\n",
      "Validation labels shape:  (1000,)\n",
      "Test data shape:  (1000, 32, 32, 3)\n",
      "Test labels shape:  (1000,)\n"
     ]
    }
   ],
   "source": [
    "from cs231n.data_utils import load_CIFAR10\n",
    "\n",
    "def get_CIFAR10_data(num_training=49000, num_validation=1000, num_test=1000):\n",
    "    \"\"\"\n",
    "    Load the CIFAR-10 dataset from disk and perform preprocessing to prepare\n",
    "    it for the two-layer neural net classifier. These are the same steps as\n",
    "    we used for the SVM, but condensed to a single function.  \n",
    "    \"\"\"\n",
    "    # Load the raw CIFAR-10 data\n",
    "    cifar10_dir = '../assignment1/cs231n/datasets/cifar-10-batches-py'\n",
    "    X_train, y_train, X_test, y_test = load_CIFAR10(cifar10_dir)\n",
    "        \n",
    "    # Subsample the data\n",
    "    mask = range(num_training, num_training + num_validation)\n",
    "    X_val = X_train[mask]\n",
    "    y_val = y_train[mask]\n",
    "    mask = range(num_training)\n",
    "    X_train = X_train[mask]\n",
    "    y_train = y_train[mask]\n",
    "    mask = range(num_test)\n",
    "    X_test = X_test[mask]\n",
    "    y_test = y_test[mask]\n",
    "\n",
    "    # Normalize the data: subtract the mean image\n",
    "    mean_image = np.mean(X_train, axis=0)\n",
    "    X_train -= mean_image\n",
    "    X_val -= mean_image\n",
    "    X_test -= mean_image\n",
    "    \n",
    "    # Transpose so that channels come first\n",
    "    X_train = X_train.transpose(0, 3, 1, 2).copy()\n",
    "    X_val = X_val.transpose(0, 3, 1, 2).copy()\n",
    "    x_test = X_test.transpose(0, 3, 1, 2).copy()\n",
    "\n",
    "    return X_train, y_train, X_val, y_val, X_test, y_test\n",
    "\n",
    "\n",
    "# Invoke the above function to get our data.\n",
    "X_train, y_train, X_val, y_val, X_test, y_test = get_CIFAR10_data()\n",
    "print 'Train data shape: ', X_train.shape\n",
    "print 'Train labels shape: ', y_train.shape\n",
    "print 'Validation data shape: ', X_val.shape\n",
    "print 'Validation labels shape: ', y_val.shape\n",
    "print 'Test data shape: ', X_test.shape\n",
    "print 'Test labels shape: ', y_test.shape"
   ]
  },
  {
   "cell_type": "markdown",
   "metadata": {},
   "source": [
    "# Sanity check loss\n",
    "After you build a new network, one of the first things you should do is sanity check the loss. When we use the softmax loss, we expect the loss for random weights (and no regularization) to be about `log(C)` for `C` classes. When we add regularization this should go up."
   ]
  },
  {
   "cell_type": "code",
   "execution_count": 3,
   "metadata": {
    "collapsed": false
   },
   "outputs": [
    {
     "name": "stdout",
     "output_type": "stream",
     "text": [
      "Sanity check loss (no regularization):  2.30273366678\n",
      "Sanity check loss (with regularization):  2.34494284517\n"
     ]
    }
   ],
   "source": [
    "model = init_two_layer_convnet()\n",
    "\n",
    "X = np.random.randn(100, 3, 32, 32)\n",
    "y = np.random.randint(10, size=100)\n",
    "\n",
    "loss, _ = two_layer_convnet(X, model, y, reg=0)\n",
    "\n",
    "# Sanity check: Loss should be about log(10) = 2.3026\n",
    "print 'Sanity check loss (no regularization): ', loss\n",
    "\n",
    "# Sanity check: Loss should go up when you add regularization\n",
    "loss, _ = two_layer_convnet(X, model, y, reg=1)\n",
    "print 'Sanity check loss (with regularization): ', loss"
   ]
  },
  {
   "cell_type": "markdown",
   "metadata": {},
   "source": [
    "# Gradient check\n",
    "After the loss looks reasonable, you should always use numeric gradient checking to make sure that your backward pass is correct. When you use numeric gradient checking you should use a small amount of artifical data and a small number of neurons at each layer."
   ]
  },
  {
   "cell_type": "code",
   "execution_count": 4,
   "metadata": {
    "collapsed": false
   },
   "outputs": [
    {
     "name": "stdout",
     "output_type": "stream",
     "text": [
      "W1 max relative error: 1.439864e-02\n",
      "W2 max relative error: 8.959269e-05\n",
      "b1 max relative error: 9.936224e-09\n",
      "b2 max relative error: 9.998519e-10\n"
     ]
    }
   ],
   "source": [
    "num_inputs = 2\n",
    "input_shape = (3, 16, 16)\n",
    "reg = 0.0\n",
    "num_classes = 10\n",
    "X = np.random.randn(num_inputs, *input_shape)\n",
    "y = np.random.randint(num_classes, size=num_inputs)\n",
    "\n",
    "model = init_two_layer_convnet(num_filters=3, filter_size=3, input_shape=input_shape)\n",
    "loss, grads = two_layer_convnet(X, model, y)\n",
    "for param_name in sorted(grads):\n",
    "    f = lambda _: two_layer_convnet(X, model, y)[0]\n",
    "    param_grad_num = eval_numerical_gradient(f, model[param_name], verbose=False, h=1e-6)\n",
    "    e = rel_error(param_grad_num, grads[param_name])\n",
    "    print '%s max relative error: %e' % (param_name, rel_error(param_grad_num, grads[param_name]))"
   ]
  },
  {
   "cell_type": "markdown",
   "metadata": {},
   "source": [
    "# Overfit small data\n",
    "A nice trick is to train your model with just a few training samples. You should be able to overfit small datasets, which will result in very high training accuracy and comparatively low validation accuracy."
   ]
  },
  {
   "cell_type": "code",
   "execution_count": 5,
   "metadata": {
    "collapsed": false
   },
   "outputs": [
    {
     "name": "stdout",
     "output_type": "stream",
     "text": [
      "starting iteration  0\n",
      "Finished epoch 0 / 10: cost 2.314055, train: 0.140000, val 0.118000, lr 1.000000e-04\n",
      "Finished epoch 1 / 10: cost 2.166119, train: 0.340000, val 0.123000, lr 9.500000e-05\n",
      "Finished epoch 2 / 10: cost 1.719821, train: 0.300000, val 0.160000, lr 9.025000e-05\n",
      "Finished epoch 3 / 10: cost 1.982687, train: 0.500000, val 0.145000, lr 8.573750e-05\n",
      "Finished epoch 4 / 10: cost 1.379481, train: 0.480000, val 0.153000, lr 8.145062e-05\n",
      "Finished epoch 5 / 10: cost 1.975733, train: 0.660000, val 0.173000, lr 7.737809e-05\n",
      "Finished epoch 6 / 10: cost 0.779886, train: 0.780000, val 0.167000, lr 7.350919e-05\n",
      "Finished epoch 7 / 10: cost 0.471887, train: 0.780000, val 0.154000, lr 6.983373e-05\n",
      "Finished epoch 8 / 10: cost 0.673997, train: 0.880000, val 0.165000, lr 6.634204e-05\n",
      "Finished epoch 9 / 10: cost 0.360686, train: 0.940000, val 0.167000, lr 6.302494e-05\n",
      "Finished epoch 10 / 10: cost 0.190906, train: 0.960000, val 0.163000, lr 5.987369e-05\n",
      "finished optimization. best validation accuracy: 0.173000\n"
     ]
    }
   ],
   "source": [
    "# Use a two-layer ConvNet to overfit 50 training examples.\n",
    "\n",
    "model = init_two_layer_convnet()\n",
    "trainer = ClassifierTrainer()\n",
    "best_model, loss_history, train_acc_history, val_acc_history = trainer.train(\n",
    "          X_train[:50], y_train[:50], X_val, y_val, model, two_layer_convnet,\n",
    "          reg=0.001, momentum=0.9, learning_rate=0.0001, batch_size=10, num_epochs=10,\n",
    "          verbose=True)"
   ]
  },
  {
   "cell_type": "markdown",
   "metadata": {},
   "source": [
    "Plotting the loss, training accuracy, and validation accuracy should show clear overfitting:"
   ]
  },
  {
   "cell_type": "code",
   "execution_count": 6,
   "metadata": {
    "collapsed": false
   },
   "outputs": [
    {
     "data": {
      "image/png": "[encoded data removed]",
      "text/plain": [
       "<matplotlib.figure.Figure at 0x107dc81d0>"
      ]
     },
     "metadata": {},
     "output_type": "display_data"
    }
   ],
   "source": [
    "plt.subplot(2, 1, 1)\n",
    "plt.plot(loss_history)\n",
    "plt.xlabel('iteration')\n",
    "plt.ylabel('loss')\n",
    "\n",
    "plt.subplot(2, 1, 2)\n",
    "plt.plot(train_acc_history)\n",
    "plt.plot(val_acc_history)\n",
    "plt.legend(['train', 'val'], loc='upper left')\n",
    "plt.xlabel('epoch')\n",
    "plt.ylabel('accuracy')\n",
    "plt.show()"
   ]
  },
  {
   "cell_type": "markdown",
   "metadata": {},
   "source": [
    "# Train the net\n",
    "Once the above works, training the net is the next thing to try. You can set the `acc_frequency` parameter to change the frequency at which the training and validation set accuracies are tested. If your parameters are set properly, you should see the training and validation accuracy start to improve within a hundred iterations, and you should be able to train a reasonable model with just one epoch.\n",
    "\n",
    "Using the parameters below you should be able to get around 50% accuracy on the validation set."
   ]
  },
  {
   "cell_type": "code",
   "execution_count": 9,
   "metadata": {
    "collapsed": false
   },
   "outputs": [
    {
     "name": "stdout",
     "output_type": "stream",
     "text": [
      "starting iteration  0\n",
      "Finished epoch 0 / 30: cost 2.309178, train: 0.095000, val 0.101000, lr 5.000000e-05\n",
      "starting iteration  100\n",
      "starting iteration  200\n",
      "starting iteration  300\n",
      "starting iteration  400\n",
      "Finished epoch 1 / 30: cost 1.520981, train: 0.522000, val 0.551000, lr 4.750000e-05\n",
      "starting iteration  500\n",
      "Finished epoch 1 / 30: cost 1.347455, train: 0.531000, val 0.519000, lr 4.750000e-05\n",
      "starting iteration  600\n",
      "starting iteration  700\n",
      "starting iteration  800\n",
      "starting iteration  900\n",
      "Finished epoch 2 / 30: cost 0.984334, train: 0.582000, val 0.582000, lr 4.512500e-05\n",
      "starting iteration  1000\n",
      "Finished epoch 2 / 30: cost 1.235636, train: 0.619000, val 0.583000, lr 4.512500e-05\n",
      "starting iteration  1100\n",
      "starting iteration  1200\n",
      "starting iteration  1300\n",
      "starting iteration  1400\n",
      "Finished epoch 3 / 30: cost 1.108832, train: 0.606000, val 0.604000, lr 4.286875e-05\n",
      "starting iteration  1500\n",
      "Finished epoch 3 / 30: cost 1.056923, train: 0.655000, val 0.603000, lr 4.286875e-05\n",
      "starting iteration  1600\n",
      "starting iteration  1700\n",
      "starting iteration  1800\n",
      "starting iteration  1900\n",
      "Finished epoch 4 / 30: cost 0.797951, train: 0.669000, val 0.593000, lr 4.072531e-05\n",
      "starting iteration  2000\n",
      "Finished epoch 4 / 30: cost 1.191471, train: 0.659000, val 0.616000, lr 4.072531e-05\n",
      "starting iteration  2100\n",
      "starting iteration  2200\n",
      "starting iteration  2300\n",
      "starting iteration  2400\n",
      "Finished epoch 5 / 30: cost 1.011175, train: 0.656000, val 0.622000, lr 3.868905e-05\n",
      "starting iteration  2500\n",
      "Finished epoch 5 / 30: cost 1.144284, train: 0.659000, val 0.594000, lr 3.868905e-05\n",
      "starting iteration  2600\n",
      "starting iteration  2700\n",
      "starting iteration  2800\n",
      "starting iteration  2900\n",
      "Finished epoch 6 / 30: cost 0.674875, train: 0.669000, val 0.605000, lr 3.675459e-05\n",
      "starting iteration  3000\n",
      "Finished epoch 6 / 30: cost 1.000886, train: 0.671000, val 0.637000, lr 3.675459e-05\n",
      "starting iteration  3100\n",
      "starting iteration  3200\n",
      "starting iteration  3300\n",
      "starting iteration  3400\n",
      "Finished epoch 7 / 30: cost 0.920495, train: 0.700000, val 0.641000, lr 3.491686e-05\n",
      "starting iteration  3500\n",
      "Finished epoch 7 / 30: cost 0.979510, train: 0.690000, val 0.626000, lr 3.491686e-05\n",
      "starting iteration  3600\n",
      "starting iteration  3700\n",
      "starting iteration  3800\n",
      "starting iteration  3900\n",
      "Finished epoch 8 / 30: cost 1.056574, train: 0.709000, val 0.645000, lr 3.317102e-05\n",
      "starting iteration  4000\n",
      "Finished epoch 8 / 30: cost 0.939407, train: 0.692000, val 0.635000, lr 3.317102e-05\n",
      "starting iteration  4100\n",
      "starting iteration  4200\n",
      "starting iteration  4300\n",
      "starting iteration  4400\n",
      "Finished epoch 9 / 30: cost 0.984959, train: 0.702000, val 0.623000, lr 3.151247e-05\n",
      "starting iteration  4500\n",
      "Finished epoch 9 / 30: cost 0.982641, train: 0.708000, val 0.640000, lr 3.151247e-05\n",
      "starting iteration  4600\n",
      "starting iteration  4700\n",
      "starting iteration  4800\n",
      "Finished epoch 10 / 30: cost 0.868698, train: 0.685000, val 0.634000, lr 2.993685e-05\n",
      "starting iteration  4900\n",
      "starting iteration  5000\n",
      "Finished epoch 10 / 30: cost 1.117957, train: 0.702000, val 0.620000, lr 2.993685e-05\n",
      "starting iteration  5100\n",
      "starting iteration  5200\n",
      "starting iteration  5300\n",
      "Finished epoch 11 / 30: cost 1.068755, train: 0.712000, val 0.647000, lr 2.844000e-05\n",
      "starting iteration  5400\n",
      "starting iteration  5500\n",
      "Finished epoch 11 / 30: cost 0.721122, train: 0.732000, val 0.630000, lr 2.844000e-05\n",
      "starting iteration  5600\n",
      "starting iteration  5700\n",
      "starting iteration  5800\n",
      "Finished epoch 12 / 30: cost 0.926711, train: 0.716000, val 0.634000, lr 2.701800e-05\n",
      "starting iteration  5900\n",
      "starting iteration  6000\n",
      "Finished epoch 12 / 30: cost 0.811227, train: 0.688000, val 0.643000, lr 2.701800e-05\n",
      "starting iteration  6100\n",
      "starting iteration  6200\n",
      "starting iteration  6300\n",
      "Finished epoch 13 / 30: cost 0.833473, train: 0.715000, val 0.660000, lr 2.566710e-05\n",
      "starting iteration  6400\n",
      "starting iteration  6500\n",
      "Finished epoch 13 / 30: cost 0.846378, train: 0.722000, val 0.655000, lr 2.566710e-05\n",
      "starting iteration  6600\n",
      "starting iteration  6700\n",
      "starting iteration  6800\n",
      "Finished epoch 14 / 30: cost 0.843901, train: 0.724000, val 0.639000, lr 2.438375e-05\n",
      "starting iteration  6900\n",
      "starting iteration  7000\n",
      "Finished epoch 14 / 30: cost 0.594428, train: 0.724000, val 0.643000, lr 2.438375e-05\n",
      "starting iteration  7100\n",
      "starting iteration  7200\n",
      "starting iteration  7300\n",
      "Finished epoch 15 / 30: cost 1.017320, train: 0.734000, val 0.637000, lr 2.316456e-05\n",
      "starting iteration  7400\n",
      "starting iteration  7500\n",
      "Finished epoch 15 / 30: cost 0.657322, train: 0.734000, val 0.650000, lr 2.316456e-05\n",
      "starting iteration  7600\n",
      "starting iteration  7700\n",
      "starting iteration  7800\n",
      "Finished epoch 16 / 30: cost 0.944053, train: 0.724000, val 0.653000, lr 2.200633e-05\n",
      "starting iteration  7900\n",
      "starting iteration  8000\n",
      "Finished epoch 16 / 30: cost 0.763082, train: 0.719000, val 0.650000, lr 2.200633e-05\n",
      "starting iteration  8100\n",
      "starting iteration  8200\n",
      "starting iteration  8300\n",
      "Finished epoch 17 / 30: cost 0.743296, train: 0.743000, val 0.656000, lr 2.090602e-05\n",
      "starting iteration  8400\n",
      "starting iteration  8500\n",
      "Finished epoch 17 / 30: cost 0.629637, train: 0.752000, val 0.636000, lr 2.090602e-05\n",
      "starting iteration  8600\n",
      "starting iteration  8700\n",
      "starting iteration  8800\n",
      "Finished epoch 18 / 30: cost 0.890292, train: 0.761000, val 0.648000, lr 1.986072e-05\n",
      "starting iteration  8900\n",
      "starting iteration  9000\n",
      "Finished epoch 18 / 30: cost 0.751253, train: 0.749000, val 0.644000, lr 1.986072e-05\n",
      "starting iteration  9100\n",
      "starting iteration  9200\n",
      "starting iteration  9300\n",
      "Finished epoch 19 / 30: cost 0.770171, train: 0.760000, val 0.638000, lr 1.886768e-05\n",
      "starting iteration  9400\n",
      "starting iteration  9500\n",
      "Finished epoch 19 / 30: cost 0.663220, train: 0.766000, val 0.643000, lr 1.886768e-05\n",
      "starting iteration  9600\n",
      "starting iteration  9700\n",
      "Finished epoch 20 / 30: cost 0.619405, train: 0.766000, val 0.659000, lr 1.792430e-05\n",
      "starting iteration  9800\n",
      "starting iteration  9900\n",
      "starting iteration  10000\n",
      "Finished epoch 20 / 30: cost 0.583304, train: 0.768000, val 0.660000, lr 1.792430e-05\n",
      "starting iteration  10100\n",
      "starting iteration  10200\n",
      "Finished epoch 21 / 30: cost 0.591393, train: 0.769000, val 0.652000, lr 1.702808e-05\n",
      "starting iteration  10300\n",
      "starting iteration  10400\n",
      "starting iteration  10500\n",
      "Finished epoch 21 / 30: cost 0.758874, train: 0.773000, val 0.664000, lr 1.702808e-05\n",
      "starting iteration  10600\n",
      "starting iteration  10700\n",
      "Finished epoch 22 / 30: cost 0.547237, train: 0.787000, val 0.660000, lr 1.617668e-05\n",
      "starting iteration  10800\n",
      "starting iteration  10900\n",
      "starting iteration  11000\n",
      "Finished epoch 22 / 30: cost 0.633172, train: 0.786000, val 0.653000, lr 1.617668e-05\n",
      "starting iteration  11100\n",
      "starting iteration  11200\n",
      "Finished epoch 23 / 30: cost 0.767436, train: 0.738000, val 0.654000, lr 1.536784e-05\n",
      "starting iteration  11300\n",
      "starting iteration  11400\n",
      "starting iteration  11500\n",
      "Finished epoch 23 / 30: cost 0.719311, train: 0.771000, val 0.661000, lr 1.536784e-05\n",
      "starting iteration  11600\n",
      "starting iteration  11700\n",
      "Finished epoch 24 / 30: cost 0.550683, train: 0.750000, val 0.649000, lr 1.459945e-05\n",
      "starting iteration  11800\n",
      "starting iteration  11900\n",
      "starting iteration  12000\n",
      "Finished epoch 24 / 30: cost 0.490291, train: 0.786000, val 0.669000, lr 1.459945e-05\n",
      "starting iteration  12100\n",
      "starting iteration  12200\n",
      "Finished epoch 25 / 30: cost 0.646563, train: 0.764000, val 0.673000, lr 1.386948e-05\n",
      "starting iteration  12300\n",
      "starting iteration  12400\n",
      "starting iteration  12500\n",
      "Finished epoch 25 / 30: cost 0.761473, train: 0.786000, val 0.667000, lr 1.386948e-05\n",
      "starting iteration  12600\n",
      "starting iteration  12700\n",
      "Finished epoch 26 / 30: cost 0.806499, train: 0.795000, val 0.658000, lr 1.317600e-05\n",
      "starting iteration  12800\n",
      "starting iteration  12900\n",
      "starting iteration  13000\n",
      "Finished epoch 26 / 30: cost 0.621992, train: 0.783000, val 0.664000, lr 1.317600e-05\n",
      "starting iteration  13100\n",
      "starting iteration  13200\n",
      "Finished epoch 27 / 30: cost 0.628648, train: 0.792000, val 0.663000, lr 1.251720e-05\n",
      "starting iteration  13300\n",
      "starting iteration  13400\n",
      "starting iteration  13500\n",
      "Finished epoch 27 / 30: cost 0.659660, train: 0.774000, val 0.666000, lr 1.251720e-05\n",
      "starting iteration  13600\n",
      "starting iteration  13700\n",
      "Finished epoch 28 / 30: cost 0.703655, train: 0.781000, val 0.660000, lr 1.189134e-05\n",
      "starting iteration  13800\n",
      "starting iteration  13900\n",
      "starting iteration  14000\n",
      "Finished epoch 28 / 30: cost 0.459928, train: 0.799000, val 0.676000, lr 1.189134e-05\n",
      "starting iteration  14100\n",
      "starting iteration  14200\n",
      "Finished epoch 29 / 30: cost 0.515089, train: 0.812000, val 0.669000, lr 1.129678e-05\n",
      "starting iteration  14300\n",
      "starting iteration  14400\n",
      "starting iteration  14500\n",
      "Finished epoch 29 / 30: cost 0.521429, train: 0.791000, val 0.676000, lr 1.129678e-05\n",
      "starting iteration  14600\n",
      "Finished epoch 30 / 30: cost 0.503632, train: 0.828000, val 0.673000, lr 1.073194e-05\n",
      "finished optimization. best validation accuracy: 0.676000\n"
     ]
    }
   ],
   "source": [
    "model = init_two_layer_convnet(filter_size=7)\n",
    "trainer = ClassifierTrainer()\n",
    "best_model, loss_history, train_acc_history, val_acc_history = trainer.train(\n",
    "          X_train, y_train, X_val, y_val, model, two_layer_convnet,\n",
    "          reg=0.00005, momentum=0.9, learning_rate=0.00005, batch_size=100, num_epochs=30,\n",
    "          acc_frequency=500, verbose=True)"
   ]
  },
  {
   "cell_type": "markdown",
   "metadata": {},
   "source": [
    "# Visualize weights\n",
    "We can visualize the convolutional weights from the first layer. If everything worked properly, these will usually be edges and blobs of various colors and orientations."
   ]
  },
  {
   "cell_type": "code",
   "execution_count": 11,
   "metadata": {
    "collapsed": false
   },
   "outputs": [
    {
     "data": {
      "text/plain": [
       "\"\\nplt.subplot(2, 1, 1)\\nplt.plot(loss_history)\\nplt.xlabel('iteration')\\nplt.ylabel('loss')\\n\\nplt.subplot(2, 1, 2)\\nplt.plot(train_acc_history)\\nplt.plot(val_acc_history)\\nplt.legend(['train', 'val'], loc='upper left')\\nplt.xlabel('epoch')\\nplt.ylabel('accuracy')\\nplt.show()\\n\""
      ]
     },
     "execution_count": 11,
     "metadata": {},
     "output_type": "execute_result"
    },
    {
     "data": {
      "image/png": "[encoded data removed]",
      "text/plain": [
       "<matplotlib.figure.Figure at 0x109b54950>"
      ]
     },
     "metadata": {},
     "output_type": "display_data"
    }
   ],
   "source": [
    "from cs231n.vis_utils import visualize_grid\n",
    "\n",
    "grid = visualize_grid(best_model['W1'].transpose(0, 2, 3, 1))\n",
    "plt.imshow(grid.astype('uint8'))\n",
    "'''\n",
    "plt.subplot(2, 1, 1)\n",
    "plt.plot(loss_history)\n",
    "plt.xlabel('iteration')\n",
    "plt.ylabel('loss')\n",
    "\n",
    "plt.subplot(2, 1, 2)\n",
    "plt.plot(train_acc_history)\n",
    "plt.plot(val_acc_history)\n",
    "plt.legend(['train', 'val'], loc='upper left')\n",
    "plt.xlabel('epoch')\n",
    "plt.ylabel('accuracy')\n",
    "plt.show()\n",
    "'''"
   ]
  },
  {
   "cell_type": "markdown",
   "metadata": {},
   "source": [
    "# Experiment!\n",
    "Experiment and try to get the best performance that you can on CIFAR-10 using a ConvNet. Here are some ideas to get you started:\n",
    "\n",
    "### Things you should try:\n",
    "- Filter size: Above we used 7x7; this makes pretty pictures but smaller filters may be more efficient\n",
    "- Number of filters: Above we used 32 filters. Do more or fewer do better?\n",
    "- Network depth: The network above has two layers of trainable parameters. Can you do better with a deeper network? You can implement alternative architectures in the file `cs231n/classifiers/convnet.py`. Some good architectures to try include:\n",
    "    - [conv-relu-pool]xN - conv - relu - [affine]xM - [softmax or SVM]\n",
    "    - [conv-relu-pool]XN - [affine]XM - [softmax or SVM]\n",
    "    - [conv-relu-conv-relu-pool]xN - [affine]xM - [softmax or SVM]\n",
    "\n",
    "### Tips for training\n",
    "For each network architecture that you try, you should tune the learning rate and regularization strength. When doing this there are a couple important things to keep in mind:\n",
    "\n",
    "- If the parameters are working well, you should see improvement within a few hundred iterations\n",
    "- Remember the course-to-fine approach for hyperparameter tuning: start by testing a large range of hyperparameters for just a few training iterations to find the combinations of parameters that are working at all.\n",
    "- Once you have found some sets of parameters that seem to work, search more finely around these parameters. You may need to train for more epochs.\n",
    "\n",
    "### Going above and beyond\n",
    "If you are feeling adventurous there are many other features you can implement to try and improve your performance. You are **not required** to implement any of these; however they would be good things to try for extra credit.\n",
    "\n",
    "- Alternative update steps: For the assignment we implemented SGD+momentum and RMSprop; you could try alternatives like AdaGrad or AdaDelta.\n",
    "- Other forms of regularization such as L1 or Dropout\n",
    "- Alternative activation functions such as leaky ReLU or maxout\n",
    "- Model ensembles\n",
    "- Data augmentation\n",
    "\n",
    "### What we expect\n",
    "At the very least, you should be able to train a ConvNet that gets at least 65% accuracy on the validation set. This is just a lower bound - if you are careful it should be possible to get accuracies much higher than that! Extra credit points will be awarded for particularly high-scoring models or unique approaches.\n",
    "\n",
    "You should use the space below to experiment and train your network. The final cell in this notebook should contain the training, validation, and test set accuracies for your final trained network. In this notebook you should also write an explanation of what you did, any additional features that you implemented, and any visualizations or graphs that you make in the process of training and evaluating your network.\n",
    "\n",
    "Have fun and happy training!"
   ]
  },
  {
   "cell_type": "code",
   "execution_count": 12,
   "metadata": {
    "collapsed": true
   },
   "outputs": [],
   "source": [
    "# TODO: Train a ConvNet to do really well on CIFAR-10!"
   ]
  },
  {
   "cell_type": "code",
   "execution_count": null,
   "metadata": {
    "collapsed": true
   },
   "outputs": [],
   "source": []
  }
 ],
 "metadata": {
  "kernelspec": {
   "display_name": "Python 2",
   "language": "python",
   "name": "python2"
  },
  "language_info": {
   "codemirror_mode": {
    "name": "ipython",
    "version": 2
   },
   "file_extension": ".py",
   "mimetype": "text/x-python",
   "name": "python",
   "nbconvert_exporter": "python",
   "pygments_lexer": "ipython2",
   "version": "2.7.11"
  }
 },
 "nbformat": 4,
 "nbformat_minor": 0
}
